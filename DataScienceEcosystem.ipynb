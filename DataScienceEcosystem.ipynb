{
 "cells": [
  {
   "cell_type": "markdown",
   "id": "ede934e5-80d4-4355-adec-1639b0bc8107",
   "metadata": {},
   "source": [
    "# Data Science Tools and Ecosystem"
   ]
  },
  {
   "cell_type": "markdown",
   "id": "be541086-68c0-41ec-bbfc-0750b2a8c344",
   "metadata": {},
   "source": [
    "In this notebook, Data Science Tools and Ecosystem are summarized."
   ]
  },
  {
   "cell_type": "markdown",
   "id": "2a4b75f3-d854-456c-8f10-86adebc5f5f1",
   "metadata": {},
   "source": [
    "Some of the popular languages the Data Scientists use are:\n",
    "1. Python\n",
    "2. R\n",
    "3. SQL\n",
    "4. Java\n",
    "5. Scala\n",
    "6. C++\n",
    "7. JavaScript\n",
    "8. Julia"
   ]
  },
  {
   "cell_type": "markdown",
   "id": "f86422c2-5ac9-42e9-a9b4-a8d4842fe8f3",
   "metadata": {},
   "source": [
    "Some of the commonly used libraries used by Data Scientists include:\n",
    "1. Pandas (Python - Scientifics Computing)\n",
    "2. NumPy (Python - Scientifics Computing)\n",
    "3. Matplotlib (Python - Visualization)\n",
    "4. Seaborn (Python - Visualization)\n",
    "5. Scikit-learn (Python - Machine Learning and Deep Learning)\n",
    "6. Keras (Python - Machine Learning and Deep Learning)\n",
    "7. TensorFlow (Python - Deep Learning)\n",
    "8. PyTorch (Python - Deep Learning)\n",
    "9. Vegas (Scala - Statistical Data Visualizations)\n",
    "10. BigDL (Scala - Deep Learning)\n",
    "11. ggplot2 (R - Data Visualization)"
   ]
  },
  {
   "cell_type": "markdown",
   "id": "6c2ef09b-2d74-4fdf-8298-baf5c4115b13",
   "metadata": {},
   "source": [
    "\n",
    "|Data Science Tools|\n",
    "|:---------------------|\n",
    "|1. Jupyter|\n",
    "|2. Jupyter lab|\n",
    "|3. Apache Zeppelin|\n",
    "|4. RStudio|\n",
    "|5. Spyder|"
   ]
  },
  {
   "cell_type": "markdown",
   "id": "6396337e-3b6d-4605-9477-e66e26014cdc",
   "metadata": {},
   "source": [
    "### Below are a few examples of evaluating arithmetic expressions in Python\n",
    "\n",
    "|Operator|Syntax|Meaning|\n",
    "|:------:|:----:|:------|\n",
    "|+|x+y|Summation of x and y|\n",
    "|-|x-y|Substraction of y from x|\n",
    "|*|x*y|Product of x and y|\n",
    "|/|x/y|Division|\n",
    "|//|x//y|Floor Division|\n",
    "|%|x%y|Modulus|\n",
    "|**|x**y|Exponentiation (x^y)|"
   ]
  },
  {
   "cell_type": "code",
   "execution_count": 1,
   "id": "144bf82d-e4de-4c67-b8a1-996cd0ac19b8",
   "metadata": {
    "tags": []
   },
   "outputs": [
    {
     "data": {
      "text/plain": [
       "17"
      ]
     },
     "execution_count": 1,
     "metadata": {},
     "output_type": "execute_result"
    }
   ],
   "source": [
    "# This is a simple arithmetic expression to multiply then add integers.\n",
    "(3*4)+5"
   ]
  },
  {
   "cell_type": "code",
   "execution_count": 2,
   "id": "d22fafb1-1f9a-4811-9d85-94c6770f5e79",
   "metadata": {
    "tags": []
   },
   "outputs": [
    {
     "name": "stdout",
     "output_type": "stream",
     "text": [
      "200 minutes =  3.3333333333333335  hours\n"
     ]
    }
   ],
   "source": [
    "# This will convert 200 minutes to hours by dividing by 60.\n",
    "print(\"200 minutes = \", 200/60, \" hours\")"
   ]
  },
  {
   "cell_type": "markdown",
   "id": "917cf3d8-36eb-421b-b85e-9e8214e92cd5",
   "metadata": {},
   "source": [
    "**Objectives:**\n",
    "\n",
    "Types of Machine Learning Models\n",
    "* Supervised Learning\n",
    "* Unsupervised Learning\n",
    "* Reinforcement Learning"
   ]
  },
  {
   "cell_type": "code",
   "execution_count": null,
   "id": "9bf22804-f295-495d-be57-d96bd41b6316",
   "metadata": {},
   "outputs": [],
   "source": []
  }
 ],
 "metadata": {
  "kernelspec": {
   "display_name": "Python",
   "language": "python",
   "name": "conda-env-python-py"
  },
  "language_info": {
   "codemirror_mode": {
    "name": "ipython",
    "version": 3
   },
   "file_extension": ".py",
   "mimetype": "text/x-python",
   "name": "python",
   "nbconvert_exporter": "python",
   "pygments_lexer": "ipython3",
   "version": "3.7.12"
  }
 },
 "nbformat": 4,
 "nbformat_minor": 5
}
